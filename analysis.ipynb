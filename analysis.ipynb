{
 "cells": [
  {
   "cell_type": "code",
   "execution_count": 5,
   "metadata": {
    "vscode": {
     "languageId": "r"
    }
   },
   "outputs": [],
   "source": [
    "suppressPackageStartupMessages({\n",
    "    library(dplyr)\n",
    "    library(readr)\n",
    "})"
   ]
  },
  {
   "cell_type": "code",
   "execution_count": 2,
   "metadata": {
    "vscode": {
     "languageId": "r"
    }
   },
   "outputs": [
    {
     "name": "stderr",
     "output_type": "stream",
     "text": [
      "\u001b[1mRows: \u001b[22m\u001b[34m604860\u001b[39m \u001b[1mColumns: \u001b[22m\u001b[34m5\u001b[39m\n",
      "\u001b[36m──\u001b[39m \u001b[1mColumn specification\u001b[22m \u001b[36m────────────────────────────────────────────────────────────────────────────────────────────────────────\u001b[39m\n",
      "\u001b[1mDelimiter:\u001b[22m \"\\t\"\n",
      "\u001b[31mchr\u001b[39m (3): Gene, Gene name, Immune cell\n",
      "\u001b[32mdbl\u001b[39m (2): TPM, pTPM\n",
      "\n",
      "\u001b[36mℹ\u001b[39m Use `spec()` to retrieve the full column specification for this data.\n",
      "\u001b[36mℹ\u001b[39m Specify the column types or set `show_col_types = FALSE` to quiet this message.\n"
     ]
    }
   ],
   "source": [
    "data <- read_tsv(\"rna_immune_cell_monaco.tsv.zip\")"
   ]
  },
  {
   "cell_type": "code",
   "execution_count": 3,
   "metadata": {
    "vscode": {
     "languageId": "r"
    }
   },
   "outputs": [
    {
     "data": {
      "text/html": [
       "<table class=\"dataframe\">\n",
       "<caption>A tibble: 6 × 5</caption>\n",
       "<thead>\n",
       "\t<tr><th scope=col>Gene</th><th scope=col>Gene name</th><th scope=col>Immune cell</th><th scope=col>TPM</th><th scope=col>pTPM</th></tr>\n",
       "\t<tr><th scope=col>&lt;chr&gt;</th><th scope=col>&lt;chr&gt;</th><th scope=col>&lt;chr&gt;</th><th scope=col>&lt;dbl&gt;</th><th scope=col>&lt;dbl&gt;</th></tr>\n",
       "</thead>\n",
       "<tbody>\n",
       "\t<tr><td>ENSG00000000003</td><td>TSPAN6</td><td>basophil                  </td><td>0.5</td><td>0.9</td></tr>\n",
       "\t<tr><td>ENSG00000000003</td><td>TSPAN6</td><td>Central memory CD8 T-cell </td><td>1.1</td><td>1.8</td></tr>\n",
       "\t<tr><td>ENSG00000000003</td><td>TSPAN6</td><td>classical monocyte        </td><td>0.2</td><td>0.2</td></tr>\n",
       "\t<tr><td>ENSG00000000003</td><td>TSPAN6</td><td>Effector memory CD8 T-cell</td><td>0.5</td><td>0.7</td></tr>\n",
       "\t<tr><td>ENSG00000000003</td><td>TSPAN6</td><td>Exhausted memory B-cell   </td><td>0.4</td><td>0.7</td></tr>\n",
       "\t<tr><td>ENSG00000000003</td><td>TSPAN6</td><td>intermediate monocyte     </td><td>0.1</td><td>0.2</td></tr>\n",
       "</tbody>\n",
       "</table>\n"
      ],
      "text/latex": [
       "A tibble: 6 × 5\n",
       "\\begin{tabular}{lllll}\n",
       " Gene & Gene name & Immune cell & TPM & pTPM\\\\\n",
       " <chr> & <chr> & <chr> & <dbl> & <dbl>\\\\\n",
       "\\hline\n",
       "\t ENSG00000000003 & TSPAN6 & basophil                   & 0.5 & 0.9\\\\\n",
       "\t ENSG00000000003 & TSPAN6 & Central memory CD8 T-cell  & 1.1 & 1.8\\\\\n",
       "\t ENSG00000000003 & TSPAN6 & classical monocyte         & 0.2 & 0.2\\\\\n",
       "\t ENSG00000000003 & TSPAN6 & Effector memory CD8 T-cell & 0.5 & 0.7\\\\\n",
       "\t ENSG00000000003 & TSPAN6 & Exhausted memory B-cell    & 0.4 & 0.7\\\\\n",
       "\t ENSG00000000003 & TSPAN6 & intermediate monocyte      & 0.1 & 0.2\\\\\n",
       "\\end{tabular}\n"
      ],
      "text/markdown": [
       "\n",
       "A tibble: 6 × 5\n",
       "\n",
       "| Gene &lt;chr&gt; | Gene name &lt;chr&gt; | Immune cell &lt;chr&gt; | TPM &lt;dbl&gt; | pTPM &lt;dbl&gt; |\n",
       "|---|---|---|---|---|\n",
       "| ENSG00000000003 | TSPAN6 | basophil                   | 0.5 | 0.9 |\n",
       "| ENSG00000000003 | TSPAN6 | Central memory CD8 T-cell  | 1.1 | 1.8 |\n",
       "| ENSG00000000003 | TSPAN6 | classical monocyte         | 0.2 | 0.2 |\n",
       "| ENSG00000000003 | TSPAN6 | Effector memory CD8 T-cell | 0.5 | 0.7 |\n",
       "| ENSG00000000003 | TSPAN6 | Exhausted memory B-cell    | 0.4 | 0.7 |\n",
       "| ENSG00000000003 | TSPAN6 | intermediate monocyte      | 0.1 | 0.2 |\n",
       "\n"
      ],
      "text/plain": [
       "  Gene            Gene name Immune cell                TPM pTPM\n",
       "1 ENSG00000000003 TSPAN6    basophil                   0.5 0.9 \n",
       "2 ENSG00000000003 TSPAN6    Central memory CD8 T-cell  1.1 1.8 \n",
       "3 ENSG00000000003 TSPAN6    classical monocyte         0.2 0.2 \n",
       "4 ENSG00000000003 TSPAN6    Effector memory CD8 T-cell 0.5 0.7 \n",
       "5 ENSG00000000003 TSPAN6    Exhausted memory B-cell    0.4 0.7 \n",
       "6 ENSG00000000003 TSPAN6    intermediate monocyte      0.1 0.2 "
      ]
     },
     "metadata": {},
     "output_type": "display_data"
    }
   ],
   "source": [
    "head(data)"
   ]
  },
  {
   "cell_type": "code",
   "execution_count": null,
   "metadata": {
    "vscode": {
     "languageId": "r"
    }
   },
   "outputs": [],
   "source": []
  }
 ],
 "metadata": {
  "kernelspec": {
   "display_name": "R",
   "language": "R",
   "name": "ir"
  },
  "language_info": {
   "codemirror_mode": "r",
   "file_extension": ".r",
   "mimetype": "text/x-r-source",
   "name": "R",
   "pygments_lexer": "r",
   "version": "4.3.3"
  }
 },
 "nbformat": 4,
 "nbformat_minor": 2
}
