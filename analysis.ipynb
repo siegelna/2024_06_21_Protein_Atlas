{
 "cells": [
  {
   "cell_type": "code",
   "execution_count": 36,
   "metadata": {
    "vscode": {
     "languageId": "r"
    }
   },
   "outputs": [],
   "source": [
    "suppressPackageStartupMessages({\n",
    "    library(dplyr)\n",
    "    library(readr)\n",
    "    library(tidyr)\n",
    "})"
   ]
  },
  {
   "cell_type": "markdown",
   "metadata": {},
   "source": [
    "[Analysis Data](https://www.proteinatlas.org/download/rna_immune_cell_monaco.tsv.zip)"
   ]
  },
  {
   "cell_type": "code",
   "execution_count": 21,
   "metadata": {
    "vscode": {
     "languageId": "r"
    }
   },
   "outputs": [
    {
     "name": "stderr",
     "output_type": "stream",
     "text": [
      "\u001b[1mRows: \u001b[22m\u001b[34m604860\u001b[39m \u001b[1mColumns: \u001b[22m\u001b[34m5\u001b[39m\n",
      "\u001b[36m──\u001b[39m \u001b[1mColumn specification\u001b[22m \u001b[36m────────────────────────────────────────────────────────────────────────────────────────────────────────\u001b[39m\n",
      "\u001b[1mDelimiter:\u001b[22m \"\\t\"\n",
      "\u001b[31mchr\u001b[39m (3): Gene, Gene name, Immune cell\n",
      "\u001b[32mdbl\u001b[39m (2): TPM, pTPM\n",
      "\n",
      "\u001b[36mℹ\u001b[39m Use `spec()` to retrieve the full column specification for this data.\n",
      "\u001b[36mℹ\u001b[39m Specify the column types or set `show_col_types = FALSE` to quiet this message.\n"
     ]
    }
   ],
   "source": [
    "data <- read_tsv(\"rna_immune_cell_monaco.tsv.zip\") %>% as.data.frame()"
   ]
  },
  {
   "cell_type": "code",
   "execution_count": 23,
   "metadata": {
    "vscode": {
     "languageId": "r"
    }
   },
   "outputs": [
    {
     "data": {
      "text/html": [
       "<table class=\"dataframe\">\n",
       "<caption>A data.frame: 6 × 5</caption>\n",
       "<thead>\n",
       "\t<tr><th></th><th scope=col>Gene</th><th scope=col>Gene name</th><th scope=col>Immune cell</th><th scope=col>TPM</th><th scope=col>pTPM</th></tr>\n",
       "\t<tr><th></th><th scope=col>&lt;chr&gt;</th><th scope=col>&lt;chr&gt;</th><th scope=col>&lt;chr&gt;</th><th scope=col>&lt;dbl&gt;</th><th scope=col>&lt;dbl&gt;</th></tr>\n",
       "</thead>\n",
       "<tbody>\n",
       "\t<tr><th scope=row>1</th><td>ENSG00000000003</td><td>TSPAN6</td><td>basophil                  </td><td>0.5</td><td>0.9</td></tr>\n",
       "\t<tr><th scope=row>2</th><td>ENSG00000000003</td><td>TSPAN6</td><td>Central memory CD8 T-cell </td><td>1.1</td><td>1.8</td></tr>\n",
       "\t<tr><th scope=row>3</th><td>ENSG00000000003</td><td>TSPAN6</td><td>classical monocyte        </td><td>0.2</td><td>0.2</td></tr>\n",
       "\t<tr><th scope=row>4</th><td>ENSG00000000003</td><td>TSPAN6</td><td>Effector memory CD8 T-cell</td><td>0.5</td><td>0.7</td></tr>\n",
       "\t<tr><th scope=row>5</th><td>ENSG00000000003</td><td>TSPAN6</td><td>Exhausted memory B-cell   </td><td>0.4</td><td>0.7</td></tr>\n",
       "\t<tr><th scope=row>6</th><td>ENSG00000000003</td><td>TSPAN6</td><td>intermediate monocyte     </td><td>0.1</td><td>0.2</td></tr>\n",
       "</tbody>\n",
       "</table>\n"
      ],
      "text/latex": [
       "A data.frame: 6 × 5\n",
       "\\begin{tabular}{r|lllll}\n",
       "  & Gene & Gene name & Immune cell & TPM & pTPM\\\\\n",
       "  & <chr> & <chr> & <chr> & <dbl> & <dbl>\\\\\n",
       "\\hline\n",
       "\t1 & ENSG00000000003 & TSPAN6 & basophil                   & 0.5 & 0.9\\\\\n",
       "\t2 & ENSG00000000003 & TSPAN6 & Central memory CD8 T-cell  & 1.1 & 1.8\\\\\n",
       "\t3 & ENSG00000000003 & TSPAN6 & classical monocyte         & 0.2 & 0.2\\\\\n",
       "\t4 & ENSG00000000003 & TSPAN6 & Effector memory CD8 T-cell & 0.5 & 0.7\\\\\n",
       "\t5 & ENSG00000000003 & TSPAN6 & Exhausted memory B-cell    & 0.4 & 0.7\\\\\n",
       "\t6 & ENSG00000000003 & TSPAN6 & intermediate monocyte      & 0.1 & 0.2\\\\\n",
       "\\end{tabular}\n"
      ],
      "text/markdown": [
       "\n",
       "A data.frame: 6 × 5\n",
       "\n",
       "| <!--/--> | Gene &lt;chr&gt; | Gene name &lt;chr&gt; | Immune cell &lt;chr&gt; | TPM &lt;dbl&gt; | pTPM &lt;dbl&gt; |\n",
       "|---|---|---|---|---|---|\n",
       "| 1 | ENSG00000000003 | TSPAN6 | basophil                   | 0.5 | 0.9 |\n",
       "| 2 | ENSG00000000003 | TSPAN6 | Central memory CD8 T-cell  | 1.1 | 1.8 |\n",
       "| 3 | ENSG00000000003 | TSPAN6 | classical monocyte         | 0.2 | 0.2 |\n",
       "| 4 | ENSG00000000003 | TSPAN6 | Effector memory CD8 T-cell | 0.5 | 0.7 |\n",
       "| 5 | ENSG00000000003 | TSPAN6 | Exhausted memory B-cell    | 0.4 | 0.7 |\n",
       "| 6 | ENSG00000000003 | TSPAN6 | intermediate monocyte      | 0.1 | 0.2 |\n",
       "\n"
      ],
      "text/plain": [
       "  Gene            Gene name Immune cell                TPM pTPM\n",
       "1 ENSG00000000003 TSPAN6    basophil                   0.5 0.9 \n",
       "2 ENSG00000000003 TSPAN6    Central memory CD8 T-cell  1.1 1.8 \n",
       "3 ENSG00000000003 TSPAN6    classical monocyte         0.2 0.2 \n",
       "4 ENSG00000000003 TSPAN6    Effector memory CD8 T-cell 0.5 0.7 \n",
       "5 ENSG00000000003 TSPAN6    Exhausted memory B-cell    0.4 0.7 \n",
       "6 ENSG00000000003 TSPAN6    intermediate monocyte      0.1 0.2 "
      ]
     },
     "metadata": {},
     "output_type": "display_data"
    }
   ],
   "source": [
    "head(data)"
   ]
  },
  {
   "cell_type": "code",
   "execution_count": 47,
   "metadata": {
    "vscode": {
     "languageId": "r"
    }
   },
   "outputs": [],
   "source": [
    "protein_atlas <- c(\n",
    "  \"LILRB1\",\n",
    "  \"LILRB2\",\n",
    "  \"LAIR1\",\n",
    "  \"HLA-G\",\n",
    "  \"HAVCR2\",   # TIM3\n",
    "  \"CD33\",     # SIGLEC3\n",
    "  \"SIGLEC7\",\n",
    "  \"SIGLEC9\",\n",
    "  \"SIRPA\"\n",
    ")\n",
    "\n",
    "celltype <- c(\n",
    "  \"basophil\", \"Central memory CD8 T-cell\", \"classical monocyte\", \n",
    "  \"Effector memory CD8 T-cell\", \"Exhausted memory B-cell\", \"intermediate monocyte\", \n",
    "  \"MAIT T-cell\", \"Memory CD4 T-cell TFH\", \"Memory CD4 T-cell Th1\", \n",
    "  \"Memory CD4 T-cell Th1/Th17\", \"Memory CD4 T-cell Th17\", \"Memory CD4 T-cell Th2\", \n",
    "  \"myeloid DC\", \"naive B-cell\", \"naive CD4 T-cell\", \n",
    "  \"naive CD8 T-cell\", \"neutrophil\", \"NK-cell\", \n",
    "  \"non-classical monocyte\", \"Non-switched memory B-cell\", \"Non-Vd2 gdTCR\", \n",
    "  \"Plasmablast\", \"plasmacytoid DC\", \"Progenitor cell\", \n",
    "  \"Switched memory B-cell\", \"T-reg\", \"Terminal effector memory CD4 T-cell\", \n",
    "  \"Terminal effector memory CD8 T-cell\", \"total PBMC\", \"Vd2 gdTCR\"\n",
    ")"
   ]
  },
  {
   "cell_type": "code",
   "execution_count": 57,
   "metadata": {
    "vscode": {
     "languageId": "r"
    }
   },
   "outputs": [],
   "source": [
    "# Filter and pivot the dataframe\n",
    "filtered_df <- data %>%\n",
    "  filter(`Gene name` %in% protein_atlas) %>%\n",
    "  filter(`Immune cell` %in% celltype) %>%\n",
    "  select(-c(Gene, pTPM)) %>% \n",
    "  pivot_wider(names_from = \"Gene name\", values_from = \"TPM\")\n"
   ]
  },
  {
   "cell_type": "code",
   "execution_count": 58,
   "metadata": {
    "vscode": {
     "languageId": "r"
    }
   },
   "outputs": [
    {
     "data": {
      "text/html": [
       "<table class=\"dataframe\">\n",
       "<caption>A tibble: 6 × 10</caption>\n",
       "<thead>\n",
       "\t<tr><th scope=col>Immune cell</th><th scope=col>LILRB1</th><th scope=col>CD33</th><th scope=col>SIGLEC9</th><th scope=col>LILRB2</th><th scope=col>HAVCR2</th><th scope=col>LAIR1</th><th scope=col>SIGLEC7</th><th scope=col>SIRPA</th><th scope=col>HLA-G</th></tr>\n",
       "\t<tr><th scope=col>&lt;chr&gt;</th><th scope=col>&lt;dbl&gt;</th><th scope=col>&lt;dbl&gt;</th><th scope=col>&lt;dbl&gt;</th><th scope=col>&lt;dbl&gt;</th><th scope=col>&lt;dbl&gt;</th><th scope=col>&lt;dbl&gt;</th><th scope=col>&lt;dbl&gt;</th><th scope=col>&lt;dbl&gt;</th><th scope=col>&lt;dbl&gt;</th></tr>\n",
       "</thead>\n",
       "<tbody>\n",
       "\t<tr><td>basophil                  </td><td>  0.4</td><td> 39.3</td><td>  2.4</td><td> 78.6</td><td> 8.3</td><td>49.4</td><td>  5.8</td><td> 16.5</td><td>0</td></tr>\n",
       "\t<tr><td>Central memory CD8 T-cell </td><td>  0.8</td><td>  0.3</td><td>  1.2</td><td>  0.0</td><td> 6.7</td><td>11.2</td><td>  0.0</td><td>  0.0</td><td>0</td></tr>\n",
       "\t<tr><td>classical monocyte        </td><td> 98.0</td><td>192.1</td><td>293.0</td><td>334.2</td><td>63.9</td><td>27.3</td><td>106.3</td><td>122.1</td><td>0</td></tr>\n",
       "\t<tr><td>Effector memory CD8 T-cell</td><td> 29.1</td><td>  0.3</td><td> 13.4</td><td>  0.0</td><td>15.5</td><td>21.7</td><td>  0.8</td><td>  0.0</td><td>0</td></tr>\n",
       "\t<tr><td>Exhausted memory B-cell   </td><td> 52.1</td><td>  7.2</td><td> 14.5</td><td> 35.6</td><td> 6.0</td><td>11.5</td><td>  5.9</td><td>  5.8</td><td>0</td></tr>\n",
       "\t<tr><td>intermediate monocyte     </td><td>274.7</td><td>121.4</td><td>210.3</td><td>719.1</td><td>68.6</td><td>52.9</td><td> 75.0</td><td> 27.3</td><td>0</td></tr>\n",
       "</tbody>\n",
       "</table>\n"
      ],
      "text/latex": [
       "A tibble: 6 × 10\n",
       "\\begin{tabular}{llllllllll}\n",
       " Immune cell & LILRB1 & CD33 & SIGLEC9 & LILRB2 & HAVCR2 & LAIR1 & SIGLEC7 & SIRPA & HLA-G\\\\\n",
       " <chr> & <dbl> & <dbl> & <dbl> & <dbl> & <dbl> & <dbl> & <dbl> & <dbl> & <dbl>\\\\\n",
       "\\hline\n",
       "\t basophil                   &   0.4 &  39.3 &   2.4 &  78.6 &  8.3 & 49.4 &   5.8 &  16.5 & 0\\\\\n",
       "\t Central memory CD8 T-cell  &   0.8 &   0.3 &   1.2 &   0.0 &  6.7 & 11.2 &   0.0 &   0.0 & 0\\\\\n",
       "\t classical monocyte         &  98.0 & 192.1 & 293.0 & 334.2 & 63.9 & 27.3 & 106.3 & 122.1 & 0\\\\\n",
       "\t Effector memory CD8 T-cell &  29.1 &   0.3 &  13.4 &   0.0 & 15.5 & 21.7 &   0.8 &   0.0 & 0\\\\\n",
       "\t Exhausted memory B-cell    &  52.1 &   7.2 &  14.5 &  35.6 &  6.0 & 11.5 &   5.9 &   5.8 & 0\\\\\n",
       "\t intermediate monocyte      & 274.7 & 121.4 & 210.3 & 719.1 & 68.6 & 52.9 &  75.0 &  27.3 & 0\\\\\n",
       "\\end{tabular}\n"
      ],
      "text/markdown": [
       "\n",
       "A tibble: 6 × 10\n",
       "\n",
       "| Immune cell &lt;chr&gt; | LILRB1 &lt;dbl&gt; | CD33 &lt;dbl&gt; | SIGLEC9 &lt;dbl&gt; | LILRB2 &lt;dbl&gt; | HAVCR2 &lt;dbl&gt; | LAIR1 &lt;dbl&gt; | SIGLEC7 &lt;dbl&gt; | SIRPA &lt;dbl&gt; | HLA-G &lt;dbl&gt; |\n",
       "|---|---|---|---|---|---|---|---|---|---|\n",
       "| basophil                   |   0.4 |  39.3 |   2.4 |  78.6 |  8.3 | 49.4 |   5.8 |  16.5 | 0 |\n",
       "| Central memory CD8 T-cell  |   0.8 |   0.3 |   1.2 |   0.0 |  6.7 | 11.2 |   0.0 |   0.0 | 0 |\n",
       "| classical monocyte         |  98.0 | 192.1 | 293.0 | 334.2 | 63.9 | 27.3 | 106.3 | 122.1 | 0 |\n",
       "| Effector memory CD8 T-cell |  29.1 |   0.3 |  13.4 |   0.0 | 15.5 | 21.7 |   0.8 |   0.0 | 0 |\n",
       "| Exhausted memory B-cell    |  52.1 |   7.2 |  14.5 |  35.6 |  6.0 | 11.5 |   5.9 |   5.8 | 0 |\n",
       "| intermediate monocyte      | 274.7 | 121.4 | 210.3 | 719.1 | 68.6 | 52.9 |  75.0 |  27.3 | 0 |\n",
       "\n"
      ],
      "text/plain": [
       "  Immune cell                LILRB1 CD33  SIGLEC9 LILRB2 HAVCR2 LAIR1 SIGLEC7\n",
       "1 basophil                     0.4   39.3   2.4    78.6   8.3   49.4    5.8  \n",
       "2 Central memory CD8 T-cell    0.8    0.3   1.2     0.0   6.7   11.2    0.0  \n",
       "3 classical monocyte          98.0  192.1 293.0   334.2  63.9   27.3  106.3  \n",
       "4 Effector memory CD8 T-cell  29.1    0.3  13.4     0.0  15.5   21.7    0.8  \n",
       "5 Exhausted memory B-cell     52.1    7.2  14.5    35.6   6.0   11.5    5.9  \n",
       "6 intermediate monocyte      274.7  121.4 210.3   719.1  68.6   52.9   75.0  \n",
       "  SIRPA HLA-G\n",
       "1  16.5 0    \n",
       "2   0.0 0    \n",
       "3 122.1 0    \n",
       "4   0.0 0    \n",
       "5   5.8 0    \n",
       "6  27.3 0    "
      ]
     },
     "metadata": {},
     "output_type": "display_data"
    }
   ],
   "source": [
    "head(filtered_df)"
   ]
  },
  {
   "cell_type": "code",
   "execution_count": 59,
   "metadata": {
    "vscode": {
     "languageId": "r"
    }
   },
   "outputs": [],
   "source": [
    "write.table(filtered_df, \"result.csv\", sep = \",\", row.names = FALSE)"
   ]
  }
 ],
 "metadata": {
  "kernelspec": {
   "display_name": "R",
   "language": "R",
   "name": "ir"
  },
  "language_info": {
   "codemirror_mode": "r",
   "file_extension": ".r",
   "mimetype": "text/x-r-source",
   "name": "R",
   "pygments_lexer": "r",
   "version": "4.3.3"
  }
 },
 "nbformat": 4,
 "nbformat_minor": 2
}
